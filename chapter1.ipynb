{
 "cells": [
  {
   "cell_type": "markdown",
   "metadata": {},
   "source": [
    "# De-identification\n",
    "\n",
    "```{admonition} Learning Objectives\n",
    "After reading this chapter, you will be able to:\n",
    "- Define the following concepts:\n",
    "  - De-identification\n",
    "  - Re-identification\n",
    "  - Identifying information / personally identifying information\n",
    "  - Linkage attacks\n",
    "  - Aggregation and aggregate statistics\n",
    "  - Differencing attacks\n",
    "- Perform a linkage attack\n",
    "- Perform a differencing attack\n",
    "- Explain the limitations of de-identification techniques\n",
    "- Explain the limitations of aggregate statistics\n",
    "```"
   ]
  },
  {
   "cell_type": "markdown",
   "metadata": {},
   "source": [
    "## Preliminaries\n",
    "\n",
    "Download the dataset by clicking [here](https://github.com/uvm-plaid/programming-dp/raw/master/notebooks/adult_with_pii.csv) and placing them in the same directory as this notebook.\n",
    "\n",
    "The dataset is based on census data. The personally identifiable information (PII) is made up."
   ]
  },
  {
   "cell_type": "code",
   "execution_count": 1,
   "metadata": {},
   "outputs": [],
   "source": [
    "%matplotlib inline\n",
    "import matplotlib as mpl\n",
    "import matplotlib.pyplot as plt\n",
    "import matplotlib.font_manager as fm\n",
    "\n",
    "from mplfonts import use_font\n",
    "use_font('Noto Sans CJK SC')\n",
    "\n",
    "import pandas as pd\n",
    "import numpy as np"
   ]
  },
  {
   "cell_type": "code",
   "execution_count": 2,
   "metadata": {},
   "outputs": [
    {
     "data": {
      "text/html": [
       "<div>\n",
       "<style scoped>\n",
       "    .dataframe tbody tr th:only-of-type {\n",
       "        vertical-align: middle;\n",
       "    }\n",
       "\n",
       "    .dataframe tbody tr th {\n",
       "        vertical-align: top;\n",
       "    }\n",
       "\n",
       "    .dataframe thead th {\n",
       "        text-align: right;\n",
       "    }\n",
       "</style>\n",
       "<table border=\"1\" class=\"dataframe\">\n",
       "  <thead>\n",
       "    <tr style=\"text-align: right;\">\n",
       "      <th></th>\n",
       "      <th>Name</th>\n",
       "      <th>DOB</th>\n",
       "      <th>SSN</th>\n",
       "      <th>Zip</th>\n",
       "      <th>Workclass</th>\n",
       "      <th>Education</th>\n",
       "    </tr>\n",
       "  </thead>\n",
       "  <tbody>\n",
       "    <tr>\n",
       "      <th>0</th>\n",
       "      <td>Karrie Trusslove</td>\n",
       "      <td>9/7/1967</td>\n",
       "      <td>732-14-6110</td>\n",
       "      <td>64152</td>\n",
       "      <td>State-gov</td>\n",
       "      <td>Bachelors</td>\n",
       "    </tr>\n",
       "    <tr>\n",
       "      <th>1</th>\n",
       "      <td>Brandise Tripony</td>\n",
       "      <td>6/7/1988</td>\n",
       "      <td>150-19-2766</td>\n",
       "      <td>61523</td>\n",
       "      <td>Self-emp-not-inc</td>\n",
       "      <td>Bachelors</td>\n",
       "    </tr>\n",
       "    <tr>\n",
       "      <th>2</th>\n",
       "      <td>Brenn McNeely</td>\n",
       "      <td>8/6/1991</td>\n",
       "      <td>725-59-9860</td>\n",
       "      <td>95668</td>\n",
       "      <td>Private</td>\n",
       "      <td>HS-grad</td>\n",
       "    </tr>\n",
       "    <tr>\n",
       "      <th>3</th>\n",
       "      <td>Dorry Poter</td>\n",
       "      <td>4/6/2009</td>\n",
       "      <td>659-57-4974</td>\n",
       "      <td>25503</td>\n",
       "      <td>Private</td>\n",
       "      <td>11th</td>\n",
       "    </tr>\n",
       "    <tr>\n",
       "      <th>4</th>\n",
       "      <td>Dick Honnan</td>\n",
       "      <td>9/16/1951</td>\n",
       "      <td>220-93-3811</td>\n",
       "      <td>75387</td>\n",
       "      <td>Private</td>\n",
       "      <td>Bachelors</td>\n",
       "    </tr>\n",
       "    <tr>\n",
       "      <th>...</th>\n",
       "      <td>...</td>\n",
       "      <td>...</td>\n",
       "      <td>...</td>\n",
       "      <td>...</td>\n",
       "      <td>...</td>\n",
       "      <td>...</td>\n",
       "    </tr>\n",
       "    <tr>\n",
       "      <th>32558</th>\n",
       "      <td>Ardyce Golby</td>\n",
       "      <td>10/29/1961</td>\n",
       "      <td>212-61-8338</td>\n",
       "      <td>41328</td>\n",
       "      <td>Private</td>\n",
       "      <td>Assoc-acdm</td>\n",
       "    </tr>\n",
       "    <tr>\n",
       "      <th>32559</th>\n",
       "      <td>Jean O'Connor</td>\n",
       "      <td>6/28/1952</td>\n",
       "      <td>737-32-2919</td>\n",
       "      <td>94735</td>\n",
       "      <td>Private</td>\n",
       "      <td>HS-grad</td>\n",
       "    </tr>\n",
       "    <tr>\n",
       "      <th>32560</th>\n",
       "      <td>Reuben Skrzynski</td>\n",
       "      <td>8/9/1966</td>\n",
       "      <td>314-48-0219</td>\n",
       "      <td>49628</td>\n",
       "      <td>Private</td>\n",
       "      <td>HS-grad</td>\n",
       "    </tr>\n",
       "    <tr>\n",
       "      <th>32561</th>\n",
       "      <td>Caye Biddle</td>\n",
       "      <td>5/19/1978</td>\n",
       "      <td>647-75-3550</td>\n",
       "      <td>8213</td>\n",
       "      <td>Private</td>\n",
       "      <td>HS-grad</td>\n",
       "    </tr>\n",
       "    <tr>\n",
       "      <th>32562</th>\n",
       "      <td>Hortense Hardesty</td>\n",
       "      <td>5/11/2012</td>\n",
       "      <td>690-42-5638</td>\n",
       "      <td>86153</td>\n",
       "      <td>Self-emp-inc</td>\n",
       "      <td>HS-grad</td>\n",
       "    </tr>\n",
       "  </tbody>\n",
       "</table>\n",
       "<p>32563 rows × 6 columns</p>\n",
       "</div>"
      ],
      "text/plain": [
       "                    Name         DOB          SSN    Zip         Workclass  \\\n",
       "0       Karrie Trusslove    9/7/1967  732-14-6110  64152         State-gov   \n",
       "1       Brandise Tripony    6/7/1988  150-19-2766  61523  Self-emp-not-inc   \n",
       "2          Brenn McNeely    8/6/1991  725-59-9860  95668           Private   \n",
       "3            Dorry Poter    4/6/2009  659-57-4974  25503           Private   \n",
       "4            Dick Honnan   9/16/1951  220-93-3811  75387           Private   \n",
       "...                  ...         ...          ...    ...               ...   \n",
       "32558       Ardyce Golby  10/29/1961  212-61-8338  41328           Private   \n",
       "32559      Jean O'Connor   6/28/1952  737-32-2919  94735           Private   \n",
       "32560   Reuben Skrzynski    8/9/1966  314-48-0219  49628           Private   \n",
       "32561        Caye Biddle   5/19/1978  647-75-3550   8213           Private   \n",
       "32562  Hortense Hardesty   5/11/2012  690-42-5638  86153      Self-emp-inc   \n",
       "\n",
       "        Education  \n",
       "0       Bachelors  \n",
       "1       Bachelors  \n",
       "2         HS-grad  \n",
       "3            11th  \n",
       "4       Bachelors  \n",
       "...           ...  \n",
       "32558  Assoc-acdm  \n",
       "32559     HS-grad  \n",
       "32560     HS-grad  \n",
       "32561     HS-grad  \n",
       "32562     HS-grad  \n",
       "\n",
       "[32563 rows x 6 columns]"
      ]
     },
     "execution_count": 2,
     "metadata": {},
     "output_type": "execute_result"
    }
   ],
   "source": [
    "adult = pd.read_csv(\"adult_with_pii.csv\")\n",
    "adult.iloc[:, :6] # Display the first 6 columns of the DataFrame"
   ]
  },
  {
   "cell_type": "markdown",
   "metadata": {},
   "source": [
    "## De-identification\n",
    "\n",
    "*De-identification* is the process of removing *identifying information* from a dataset. The term *de-identification* is sometimes used synonymously with the terms *anonymization* and *pseudonymization*.\n",
    "\n",
    "Identifying information has no formal definition. It is usually understood to be information which would be used to identify us uniquely in the course of daily life - name, address, phone number, e-mail address, etc. As we will see later, it's *impossible* to formalize the concept of identifying information, because *all* information is identifying. The term *personally identifiable information (PII)* is often used synonymously with identifying information.\n",
    "\n",
    "How do we de-identify information? Easy - we just remove the columns that contain identifying information!"
   ]
  },
  {
   "cell_type": "code",
   "execution_count": 3,
   "metadata": {},
   "outputs": [
    {
     "data": {
      "text/html": [
       "<div>\n",
       "<style scoped>\n",
       "    .dataframe tbody tr th:only-of-type {\n",
       "        vertical-align: middle;\n",
       "    }\n",
       "\n",
       "    .dataframe tbody tr th {\n",
       "        vertical-align: top;\n",
       "    }\n",
       "\n",
       "    .dataframe thead th {\n",
       "        text-align: right;\n",
       "    }\n",
       "</style>\n",
       "<table border=\"1\" class=\"dataframe\">\n",
       "  <thead>\n",
       "    <tr style=\"text-align: right;\">\n",
       "      <th></th>\n",
       "      <th>DOB</th>\n",
       "      <th>Zip</th>\n",
       "      <th>Workclass</th>\n",
       "      <th>Education</th>\n",
       "      <th>Education-Num</th>\n",
       "    </tr>\n",
       "  </thead>\n",
       "  <tbody>\n",
       "    <tr>\n",
       "      <th>0</th>\n",
       "      <td>9/7/1967</td>\n",
       "      <td>64152</td>\n",
       "      <td>State-gov</td>\n",
       "      <td>Bachelors</td>\n",
       "      <td>13</td>\n",
       "    </tr>\n",
       "  </tbody>\n",
       "</table>\n",
       "</div>"
      ],
      "text/plain": [
       "        DOB    Zip  Workclass  Education  Education-Num\n",
       "0  9/7/1967  64152  State-gov  Bachelors             13"
      ]
     },
     "execution_count": 3,
     "metadata": {},
     "output_type": "execute_result"
    }
   ],
   "source": [
    "adult_sans_pii = adult.copy().drop(columns=['Name', 'SSN'])\n",
    "adult_pii = adult[['Name', 'SSN', 'DOB', 'Zip']]\n",
    "adult_sans_pii.head(1).iloc[:, :5] "
   ]
  },
  {
   "cell_type": "markdown",
   "metadata": {},
   "source": [
    "We'll save some of the identifying information for later, when we'll use it as *auxiliary data* to perform a *re-identification* attack."
   ]
  },
  {
   "cell_type": "markdown",
   "metadata": {},
   "source": [
    "## Linkage Attacks\n",
    "\n",
    "Imagine we want to determine the income of a friend from our de-identified data. Names have been removed, but we happen to know some auxiliary information about our friend. Our friend's name is Karrie Trusslove, and we know Karrie's date of birth and zip code."
   ]
  },
  {
   "cell_type": "markdown",
   "metadata": {},
   "source": [
    "To perform a simple *linkage attack*, we look at the overlapping columns between the dataset we're trying to attack, and the auxiliary data we know. In this case, both datasets have dates of birth and zip codes. We look for rows in the dataset we're attacking with dates of birth and zip codes that match Karrie's date of birth and zip code. In databases, this is called a [join](https://en.wikipedia.org/wiki/Join_(SQL)) of two tables, and we can do it in Pandas using [merge](https://pandas.pydata.org/pandas-docs/stable/reference/api/pandas.merge.html). If there is only one such row, we've found Karrie's row in the dataset we're attacking."
   ]
  },
  {
   "cell_type": "code",
   "execution_count": 4,
   "metadata": {},
   "outputs": [
    {
     "data": {
      "text/plain": [
       "0    <=50K\n",
       "Name: Target, dtype: object"
      ]
     },
     "execution_count": 4,
     "metadata": {},
     "output_type": "execute_result"
    }
   ],
   "source": [
    "karries_row = adult_pii[adult_pii['Name'] == 'Karrie Trusslove']\n",
    "r = pd.merge(karries_row, adult_sans_pii, left_on=['DOB', 'Zip'], right_on=['DOB', 'Zip'])\n",
    "r['Target']"
   ]
  },
  {
   "cell_type": "markdown",
   "metadata": {},
   "source": [
    "Indeed, there is only one row that matches. We have used auxiliary data to re-identify an individual in a de-identified dataset, and we're able to infer that Karrie's income is less than $50k."
   ]
  },
  {
   "cell_type": "markdown",
   "metadata": {},
   "source": [
    "### How Hard is it to Re-Identify Karrie?"
   ]
  },
  {
   "cell_type": "markdown",
   "metadata": {},
   "source": [
    "This scenario is made up, but linkage attacks are surprisingly easy to perform in practice. How easy? It turns out that in many cases, just one data point is sufficient to pinpoint a row!"
   ]
  },
  {
   "cell_type": "code",
   "execution_count": 5,
   "metadata": {},
   "outputs": [
    {
     "data": {
      "text/html": [
       "<div>\n",
       "<style scoped>\n",
       "    .dataframe tbody tr th:only-of-type {\n",
       "        vertical-align: middle;\n",
       "    }\n",
       "\n",
       "    .dataframe tbody tr th {\n",
       "        vertical-align: top;\n",
       "    }\n",
       "\n",
       "    .dataframe thead th {\n",
       "        text-align: right;\n",
       "    }\n",
       "</style>\n",
       "<table border=\"1\" class=\"dataframe\">\n",
       "  <thead>\n",
       "    <tr style=\"text-align: right;\">\n",
       "      <th></th>\n",
       "      <th>Name</th>\n",
       "      <th>SSN</th>\n",
       "      <th>DOB_x</th>\n",
       "      <th>Zip</th>\n",
       "    </tr>\n",
       "  </thead>\n",
       "  <tbody>\n",
       "    <tr>\n",
       "      <th>0</th>\n",
       "      <td>Karrie Trusslove</td>\n",
       "      <td>732-14-6110</td>\n",
       "      <td>9/7/1967</td>\n",
       "      <td>64152</td>\n",
       "    </tr>\n",
       "  </tbody>\n",
       "</table>\n",
       "</div>"
      ],
      "text/plain": [
       "               Name          SSN     DOB_x    Zip\n",
       "0  Karrie Trusslove  732-14-6110  9/7/1967  64152"
      ]
     },
     "execution_count": 5,
     "metadata": {},
     "output_type": "execute_result"
    }
   ],
   "source": [
    "pd.merge(karries_row, adult_sans_pii, left_on=['Zip'], right_on=['Zip']).iloc[:, :4]"
   ]
  },
  {
   "cell_type": "markdown",
   "metadata": {},
   "source": [
    "So ZIP code is sufficient **by itself** to allow us to re-identify Karrie. What about date of birth?"
   ]
  },
  {
   "cell_type": "code",
   "execution_count": 6,
   "metadata": {},
   "outputs": [
    {
     "data": {
      "text/html": [
       "<div>\n",
       "<style scoped>\n",
       "    .dataframe tbody tr th:only-of-type {\n",
       "        vertical-align: middle;\n",
       "    }\n",
       "\n",
       "    .dataframe tbody tr th {\n",
       "        vertical-align: top;\n",
       "    }\n",
       "\n",
       "    .dataframe thead th {\n",
       "        text-align: right;\n",
       "    }\n",
       "</style>\n",
       "<table border=\"1\" class=\"dataframe\">\n",
       "  <thead>\n",
       "    <tr style=\"text-align: right;\">\n",
       "      <th></th>\n",
       "      <th>Target</th>\n",
       "      <th>Sex</th>\n",
       "      <th>Occupation</th>\n",
       "    </tr>\n",
       "  </thead>\n",
       "  <tbody>\n",
       "    <tr>\n",
       "      <th>0</th>\n",
       "      <td>&lt;=50K</td>\n",
       "      <td>Male</td>\n",
       "      <td>Adm-clerical</td>\n",
       "    </tr>\n",
       "    <tr>\n",
       "      <th>1</th>\n",
       "      <td>&lt;=50K</td>\n",
       "      <td>Female</td>\n",
       "      <td>Farming-fishing</td>\n",
       "    </tr>\n",
       "    <tr>\n",
       "      <th>2</th>\n",
       "      <td>&gt;50K</td>\n",
       "      <td>Male</td>\n",
       "      <td>Exec-managerial</td>\n",
       "    </tr>\n",
       "  </tbody>\n",
       "</table>\n",
       "</div>"
      ],
      "text/plain": [
       "  Target     Sex       Occupation\n",
       "0  <=50K    Male     Adm-clerical\n",
       "1  <=50K  Female  Farming-fishing\n",
       "2   >50K    Male  Exec-managerial"
      ]
     },
     "execution_count": 6,
     "metadata": {},
     "output_type": "execute_result"
    }
   ],
   "source": [
    "r = pd.merge(karries_row, adult_sans_pii, left_on=['DOB'], right_on=['DOB'])\n",
    "r[['Target', 'Sex', 'Occupation']]"
   ]
  },
  {
   "cell_type": "markdown",
   "metadata": {},
   "source": [
    "This time, there are three rows returned - and we don't know which one is the real Karrie. But we've still learned a lot!\n",
    "\n",
    "- We know that there's a 2/3 chance that Karrie's income is less than $50k\n",
    "- We can look at the differences between the rows to determine what additional auxiliary information would *help* us to distinguish them (e.g. sex, occupation, marital status)"
   ]
  },
  {
   "cell_type": "markdown",
   "metadata": {},
   "source": [
    "### Is Karrie Special?"
   ]
  },
  {
   "cell_type": "markdown",
   "metadata": {},
   "source": [
    "How hard is it to re-identify others in the dataset? Is Karrie especially easy or especially difficult to re-identify? A good way to gauge the effectiveness of this type of attack is to look at how \"selective\" certain pieces of data are - how good they are at narrowing down the set of potential rows which may belong to the target individual. For example, is it common for birthdates to occur more than once?\n",
    "\n",
    "We'd like to get an idea of how many dates of birth are likely to be useful in performing an attack, which we can do by looking at how common \"unique\" dates of birth are in the dataset. The histogram below shows that *the vast majority* of dates of birth occur 1, 2, or 3 times in the dataset, and *no date of birth* occurs more than 8 times. This means that date of birth is fairly *selective* - it's effective in narrowing down the possible records for an individual."
   ]
  },
  {
   "cell_type": "code",
   "execution_count": 7,
   "metadata": {
    "tags": [
     "hide-input"
    ]
   },
   "outputs": [
    {
     "name": "stderr",
     "output_type": "stream",
     "text": [
      "findfont: Generic family 'sans-serif' not found because none of the following families were found: Noto Sans CJK SC, sans-serif\n",
      "findfont: Generic family 'sans-serif' not found because none of the following families were found: Noto Sans CJK SC, sans-serif\n",
      "findfont: Generic family 'sans-serif' not found because none of the following families were found: Noto Sans CJK SC, sans-serif\n",
      "findfont: Generic family 'sans-serif' not found because none of the following families were found: Noto Sans CJK SC, sans-serif\n",
      "findfont: Generic family 'sans-serif' not found because none of the following families were found: Noto Sans CJK SC, sans-serif\n",
      "findfont: Generic family 'sans-serif' not found because none of the following families were found: Noto Sans CJK SC, sans-serif\n",
      "findfont: Generic family 'sans-serif' not found because none of the following families were found: Noto Sans CJK SC, sans-serif\n",
      "findfont: Generic family 'sans-serif' not found because none of the following families were found: Noto Sans CJK SC, sans-serif\n",
      "findfont: Generic family 'sans-serif' not found because none of the following families were found: Noto Sans CJK SC, sans-serif\n",
      "findfont: Generic family 'sans-serif' not found because none of the following families were found: Noto Sans CJK SC, sans-serif\n",
      "findfont: Generic family 'sans-serif' not found because none of the following families were found: Noto Sans CJK SC, sans-serif\n",
      "findfont: Generic family 'sans-serif' not found because none of the following families were found: Noto Sans CJK SC, sans-serif\n",
      "findfont: Generic family 'sans-serif' not found because none of the following families were found: Noto Sans CJK SC, sans-serif\n",
      "findfont: Generic family 'sans-serif' not found because none of the following families were found: Noto Sans CJK SC, sans-serif\n",
      "findfont: Generic family 'sans-serif' not found because none of the following families were found: Noto Sans CJK SC, sans-serif\n",
      "findfont: Generic family 'sans-serif' not found because none of the following families were found: Noto Sans CJK SC, sans-serif\n",
      "findfont: Generic family 'sans-serif' not found because none of the following families were found: Noto Sans CJK SC, sans-serif\n",
      "findfont: Generic family 'sans-serif' not found because none of the following families were found: Noto Sans CJK SC, sans-serif\n",
      "findfont: Generic family 'sans-serif' not found because none of the following families were found: Noto Sans CJK SC, sans-serif\n",
      "findfont: Generic family 'sans-serif' not found because none of the following families were found: Noto Sans CJK SC, sans-serif\n",
      "findfont: Generic family 'sans-serif' not found because none of the following families were found: Noto Sans CJK SC, sans-serif\n",
      "findfont: Generic family 'sans-serif' not found because none of the following families were found: Noto Sans CJK SC, sans-serif\n",
      "findfont: Generic family 'sans-serif' not found because none of the following families were found: Noto Sans CJK SC, sans-serif\n",
      "findfont: Generic family 'sans-serif' not found because none of the following families were found: Noto Sans CJK SC, sans-serif\n",
      "findfont: Generic family 'sans-serif' not found because none of the following families were found: Noto Sans CJK SC, sans-serif\n",
      "findfont: Generic family 'sans-serif' not found because none of the following families were found: Noto Sans CJK SC, sans-serif\n",
      "findfont: Generic family 'sans-serif' not found because none of the following families were found: Noto Sans CJK SC, sans-serif\n",
      "findfont: Generic family 'sans-serif' not found because none of the following families were found: Noto Sans CJK SC, sans-serif\n",
      "findfont: Generic family 'sans-serif' not found because none of the following families were found: Noto Sans CJK SC, sans-serif\n",
      "findfont: Generic family 'sans-serif' not found because none of the following families were found: Noto Sans CJK SC, sans-serif\n",
      "findfont: Generic family 'sans-serif' not found because none of the following families were found: Noto Sans CJK SC, sans-serif\n",
      "findfont: Generic family 'sans-serif' not found because none of the following families were found: Noto Sans CJK SC, sans-serif\n",
      "findfont: Generic family 'sans-serif' not found because none of the following families were found: Noto Sans CJK SC, sans-serif\n",
      "findfont: Generic family 'sans-serif' not found because none of the following families were found: Noto Sans CJK SC, sans-serif\n",
      "findfont: Generic family 'sans-serif' not found because none of the following families were found: Noto Sans CJK SC, sans-serif\n",
      "findfont: Generic family 'sans-serif' not found because none of the following families were found: Noto Sans CJK SC, sans-serif\n",
      "findfont: Generic family 'sans-serif' not found because none of the following families were found: Noto Sans CJK SC, sans-serif\n",
      "findfont: Generic family 'sans-serif' not found because none of the following families were found: Noto Sans CJK SC, sans-serif\n",
      "findfont: Generic family 'sans-serif' not found because none of the following families were found: Noto Sans CJK SC, sans-serif\n",
      "findfont: Generic family 'sans-serif' not found because none of the following families were found: Noto Sans CJK SC, sans-serif\n",
      "findfont: Generic family 'sans-serif' not found because none of the following families were found: Noto Sans CJK SC, sans-serif\n",
      "findfont: Generic family 'sans-serif' not found because none of the following families were found: Noto Sans CJK SC, sans-serif\n",
      "findfont: Generic family 'sans-serif' not found because none of the following families were found: Noto Sans CJK SC, sans-serif\n",
      "findfont: Generic family 'sans-serif' not found because none of the following families were found: Noto Sans CJK SC, sans-serif\n",
      "findfont: Generic family 'sans-serif' not found because none of the following families were found: Noto Sans CJK SC, sans-serif\n",
      "findfont: Generic family 'sans-serif' not found because none of the following families were found: Noto Sans CJK SC, sans-serif\n",
      "findfont: Generic family 'sans-serif' not found because none of the following families were found: Noto Sans CJK SC, sans-serif\n",
      "findfont: Generic family 'sans-serif' not found because none of the following families were found: Noto Sans CJK SC, sans-serif\n",
      "findfont: Generic family 'sans-serif' not found because none of the following families were found: Noto Sans CJK SC, sans-serif\n",
      "findfont: Generic family 'sans-serif' not found because none of the following families were found: Noto Sans CJK SC, sans-serif\n",
      "findfont: Generic family 'sans-serif' not found because none of the following families were found: Noto Sans CJK SC, sans-serif\n",
      "findfont: Generic family 'sans-serif' not found because none of the following families were found: Noto Sans CJK SC, sans-serif\n",
      "findfont: Generic family 'sans-serif' not found because none of the following families were found: Noto Sans CJK SC, sans-serif\n",
      "findfont: Generic family 'sans-serif' not found because none of the following families were found: Noto Sans CJK SC, sans-serif\n",
      "findfont: Generic family 'sans-serif' not found because none of the following families were found: Noto Sans CJK SC, sans-serif\n",
      "findfont: Generic family 'sans-serif' not found because none of the following families were found: Noto Sans CJK SC, sans-serif\n",
      "findfont: Generic family 'sans-serif' not found because none of the following families were found: Noto Sans CJK SC, sans-serif\n",
      "findfont: Generic family 'sans-serif' not found because none of the following families were found: Noto Sans CJK SC, sans-serif\n",
      "findfont: Generic family 'sans-serif' not found because none of the following families were found: Noto Sans CJK SC, sans-serif\n",
      "findfont: Generic family 'sans-serif' not found because none of the following families were found: Noto Sans CJK SC, sans-serif\n",
      "findfont: Generic family 'sans-serif' not found because none of the following families were found: Noto Sans CJK SC, sans-serif\n",
      "findfont: Generic family 'sans-serif' not found because none of the following families were found: Noto Sans CJK SC, sans-serif\n",
      "findfont: Generic family 'sans-serif' not found because none of the following families were found: Noto Sans CJK SC, sans-serif\n",
      "findfont: Generic family 'sans-serif' not found because none of the following families were found: Noto Sans CJK SC, sans-serif\n",
      "findfont: Generic family 'sans-serif' not found because none of the following families were found: Noto Sans CJK SC, sans-serif\n",
      "findfont: Generic family 'sans-serif' not found because none of the following families were found: Noto Sans CJK SC, sans-serif\n",
      "findfont: Generic family 'sans-serif' not found because none of the following families were found: Noto Sans CJK SC, sans-serif\n",
      "findfont: Generic family 'sans-serif' not found because none of the following families were found: Noto Sans CJK SC, sans-serif\n",
      "findfont: Generic family 'sans-serif' not found because none of the following families were found: Noto Sans CJK SC, sans-serif\n",
      "findfont: Generic family 'sans-serif' not found because none of the following families were found: Noto Sans CJK SC, sans-serif\n",
      "findfont: Generic family 'sans-serif' not found because none of the following families were found: Noto Sans CJK SC, sans-serif\n",
      "findfont: Generic family 'sans-serif' not found because none of the following families were found: Noto Sans CJK SC, sans-serif\n",
      "findfont: Generic family 'sans-serif' not found because none of the following families were found: Noto Sans CJK SC, sans-serif\n",
      "findfont: Generic family 'sans-serif' not found because none of the following families were found: Noto Sans CJK SC, sans-serif\n",
      "findfont: Generic family 'sans-serif' not found because none of the following families were found: Noto Sans CJK SC, sans-serif\n",
      "findfont: Generic family 'sans-serif' not found because none of the following families were found: Noto Sans CJK SC, sans-serif\n",
      "findfont: Generic family 'sans-serif' not found because none of the following families were found: Noto Sans CJK SC, sans-serif\n",
      "findfont: Generic family 'sans-serif' not found because none of the following families were found: Noto Sans CJK SC, sans-serif\n"
     ]
    },
    {
     "data": {
      "image/png": "[encoded data removed]",
      "text/plain": [
       "<Figure size 640x480 with 1 Axes>"
      ]
     },
     "metadata": {},
     "output_type": "display_data"
    }
   ],
   "source": [
    "adult_pii['DOB'].value_counts().hist()\n",
    "plt.xlabel('Number of Dates of Birth')\n",
    "plt.ylabel('Number of Occurrences');"
   ]
  },
  {
   "cell_type": "markdown",
   "metadata": {},
   "source": [
    "We can do the same thing with ZIP codes, and the results are even worse - ZIP code happens to be *very* selective in this dataset. Nearly all the ZIP codes occur only once."
   ]
  },
  {
   "cell_type": "code",
   "execution_count": 64,
   "metadata": {
    "tags": [
     "hide-input"
    ]
   },
   "outputs": [
    {
     "data": {
      "image/png": "[encoded data removed]",
      "text/plain": [
       "<Figure size 640x480 with 1 Axes>"
      ]
     },
     "metadata": {},
     "output_type": "display_data"
    }
   ],
   "source": [
    "adult_pii['Zip'].value_counts().hist()\n",
    "plt.xlabel('Number of ZIP Codes')\n",
    "plt.ylabel('Number of Occurrences');"
   ]
  },
  {
   "cell_type": "markdown",
   "metadata": {},
   "source": [
    "### How Many People can we Re-Identify?"
   ]
  },
  {
   "cell_type": "markdown",
   "metadata": {},
   "source": [
    "In this dataset, how many people can we re-identify uniquely? We can use our auxiliary information to find out! First, let's see what happens with just dates of birth. We want to know how many *possible identities* are returned for each data record in the dataset. The following histogram shows the number of records with each number of possible identities. The results show that we can uniquely identify almost 7,000 of the data records (out of about 32,000), and an additional 10,000 data records are narrowed down to two possible identities."
   ]
  },
  {
   "cell_type": "code",
   "execution_count": 65,
   "metadata": {
    "scrolled": true,
    "tags": [
     "hide-input"
    ]
   },
   "outputs": [
    {
     "data": {
      "image/png": "[encoded data removed]",
      "text/plain": [
       "<Figure size 640x480 with 1 Axes>"
      ]
     },
     "metadata": {},
     "output_type": "display_data"
    }
   ],
   "source": [
    "attack = pd.merge(adult_pii, adult_sans_pii, left_on=['DOB'], right_on=['DOB'])\n",
    "attack['Name'].value_counts().hist();"
   ]
  },
  {
   "cell_type": "markdown",
   "metadata": {},
   "source": [
    "So it's not possible to re-identify a majority of individuals using *just* date of birth. What if we collect more information, to narrow things down further? If we use both date of birth and ZIP, we're able to do much better. In fact, we're able to uniquely re-identify basically the whole dataset."
   ]
  },
  {
   "cell_type": "code",
   "execution_count": 66,
   "metadata": {
    "scrolled": true,
    "tags": [
     "hide-input"
    ]
   },
   "outputs": [
    {
     "data": {
      "image/png": "[encoded data removed]",
      "text/plain": [
       "<Figure size 640x480 with 1 Axes>"
      ]
     },
     "metadata": {},
     "output_type": "display_data"
    }
   ],
   "source": [
    "attack = pd.merge(adult_pii, adult_sans_pii, left_on=['DOB', 'Zip'], right_on=['DOB', 'Zip'])\n",
    "attack['Name'].value_counts().hist();"
   ]
  },
  {
   "cell_type": "markdown",
   "metadata": {},
   "source": [
    "When we use both pieces of information, we can re-identify **essentially everyone**. This is a surprising result, since we generally assume that many people share the same birthday, and many people live in the same ZIP code. It turns out that the *combination* of these factors is **extremely** selective. According to Latanya Sweeney's work {cite}`identifiability`, 87% of people in the US can be uniquely re-identified by the combination of date of birth, gender, and ZIP code."
   ]
  },
  {
   "cell_type": "markdown",
   "metadata": {},
   "source": [
    "Let's just check that we've actually re-identified *everyone*, by printing out the number of possible data records for each identity:"
   ]
  },
  {
   "cell_type": "code",
   "execution_count": 67,
   "metadata": {
    "tags": [
     "hide-input"
    ]
   },
   "outputs": [
    {
     "data": {
      "text/plain": [
       "Name\n",
       "Antonin Chittem       2\n",
       "Barnabe Haime         2\n",
       "Brandise Tripony      1\n",
       "Jennine O'Hegertie    1\n",
       "Emmalynn McKinnon     1\n",
       "Name: count, dtype: int64"
      ]
     },
     "execution_count": 67,
     "metadata": {},
     "output_type": "execute_result"
    }
   ],
   "source": [
    "attack['Name'].value_counts().head()"
   ]
  },
  {
   "cell_type": "markdown",
   "metadata": {},
   "source": [
    "Looks like we missed two people! In other words, in this dataset, only **two people** share a combination of ZIP code and date of birth."
   ]
  },
  {
   "cell_type": "markdown",
   "metadata": {},
   "source": [
    "## Aggregation"
   ]
  },
  {
   "cell_type": "markdown",
   "metadata": {},
   "source": [
    "Another way to prevent the release of private information is to release only *aggregate* data."
   ]
  },
  {
   "cell_type": "code",
   "execution_count": 68,
   "metadata": {},
   "outputs": [
    {
     "data": {
      "text/plain": [
       "np.float64(41.77250253355035)"
      ]
     },
     "execution_count": 68,
     "metadata": {},
     "output_type": "execute_result"
    }
   ],
   "source": [
    "adult['Age'].mean()"
   ]
  },
  {
   "cell_type": "markdown",
   "metadata": {},
   "source": [
    "### Problem of Small Groups"
   ]
  },
  {
   "cell_type": "markdown",
   "metadata": {},
   "source": [
    "In many cases, aggregate statistics are broken down into smaller groups. For example, we might want to know the average age of people with a particular education level."
   ]
  },
  {
   "cell_type": "code",
   "execution_count": 69,
   "metadata": {},
   "outputs": [
    {
     "data": {
      "text/html": [
       "<div>\n",
       "<style scoped>\n",
       "    .dataframe tbody tr th:only-of-type {\n",
       "        vertical-align: middle;\n",
       "    }\n",
       "\n",
       "    .dataframe tbody tr th {\n",
       "        vertical-align: top;\n",
       "    }\n",
       "\n",
       "    .dataframe thead th {\n",
       "        text-align: right;\n",
       "    }\n",
       "</style>\n",
       "<table border=\"1\" class=\"dataframe\">\n",
       "  <thead>\n",
       "    <tr style=\"text-align: right;\">\n",
       "      <th></th>\n",
       "      <th>Education</th>\n",
       "      <th>Age</th>\n",
       "    </tr>\n",
       "  </thead>\n",
       "  <tbody>\n",
       "    <tr>\n",
       "      <th>0</th>\n",
       "      <td>10th</td>\n",
       "      <td>42.032154</td>\n",
       "    </tr>\n",
       "    <tr>\n",
       "      <th>1</th>\n",
       "      <td>11th</td>\n",
       "      <td>42.057021</td>\n",
       "    </tr>\n",
       "    <tr>\n",
       "      <th>2</th>\n",
       "      <td>12th</td>\n",
       "      <td>41.879908</td>\n",
       "    </tr>\n",
       "  </tbody>\n",
       "</table>\n",
       "</div>"
      ],
      "text/plain": [
       "  Education        Age\n",
       "0      10th  42.032154\n",
       "1      11th  42.057021\n",
       "2      12th  41.879908"
      ]
     },
     "execution_count": 69,
     "metadata": {},
     "output_type": "execute_result"
    }
   ],
   "source": [
    "adult[['Education', 'Age']].groupby('Education', as_index=False).mean().head(3)"
   ]
  },
  {
   "cell_type": "markdown",
   "metadata": {},
   "source": [
    "Aggregation is supposed to improve privacy because it's hard to identify the contribution of a particular individual to the aggregate statistic. But what if we aggregate over a group with just *one person* in it? In that case, the aggregate statistic reveals one person's age *exactly*, and provides no privacy protection at all! In our dataset, most individuals have a unique ZIP code - so if we compute the average age by ZIP code, then most of the \"averages\" actually reveal an individual's exact age."
   ]
  },
  {
   "cell_type": "code",
   "execution_count": 70,
   "metadata": {},
   "outputs": [
    {
     "data": {
      "text/html": [
       "<div>\n",
       "<style scoped>\n",
       "    .dataframe tbody tr th:only-of-type {\n",
       "        vertical-align: middle;\n",
       "    }\n",
       "\n",
       "    .dataframe tbody tr th {\n",
       "        vertical-align: top;\n",
       "    }\n",
       "\n",
       "    .dataframe thead th {\n",
       "        text-align: right;\n",
       "    }\n",
       "</style>\n",
       "<table border=\"1\" class=\"dataframe\">\n",
       "  <thead>\n",
       "    <tr style=\"text-align: right;\">\n",
       "      <th></th>\n",
       "      <th>Zip</th>\n",
       "      <th>Age</th>\n",
       "    </tr>\n",
       "  </thead>\n",
       "  <tbody>\n",
       "    <tr>\n",
       "      <th>0</th>\n",
       "      <td>4</td>\n",
       "      <td>72.0</td>\n",
       "    </tr>\n",
       "    <tr>\n",
       "      <th>1</th>\n",
       "      <td>12</td>\n",
       "      <td>46.0</td>\n",
       "    </tr>\n",
       "    <tr>\n",
       "      <th>2</th>\n",
       "      <td>16</td>\n",
       "      <td>38.0</td>\n",
       "    </tr>\n",
       "    <tr>\n",
       "      <th>3</th>\n",
       "      <td>17</td>\n",
       "      <td>31.0</td>\n",
       "    </tr>\n",
       "    <tr>\n",
       "      <th>4</th>\n",
       "      <td>18</td>\n",
       "      <td>40.0</td>\n",
       "    </tr>\n",
       "  </tbody>\n",
       "</table>\n",
       "</div>"
      ],
      "text/plain": [
       "   Zip   Age\n",
       "0    4  72.0\n",
       "1   12  46.0\n",
       "2   16  38.0\n",
       "3   17  31.0\n",
       "4   18  40.0"
      ]
     },
     "execution_count": 70,
     "metadata": {},
     "output_type": "execute_result"
    }
   ],
   "source": [
    "adult[['Zip', 'Age']].groupby('Zip', as_index=False).mean().head()"
   ]
  },
  {
   "cell_type": "markdown",
   "metadata": {},
   "source": [
    "The US Census Bureau, for example, releases aggregate statistics at the [*block level*](https://www.census.gov/newsroom/blogs/random-samplings/2011/07/what-are-census-blocks.html). Some census blocks have large populations, but some have a population of zero! The situation above, where small groups prevent aggregation from hiding information about individuals, turns out to be quite common.\n",
    "\n",
    "How big a group is \"big enough\" for aggregate statistics to help? It's hard to say - it depends on the data and on the attack - so it's challenging to build confidence that aggregate statistics are really privacy-preserving. However, even very large groups do not make aggregation completely robust against attacks, as we will see next."
   ]
  },
  {
   "cell_type": "markdown",
   "metadata": {},
   "source": [
    "### Differencing Attacks"
   ]
  },
  {
   "cell_type": "markdown",
   "metadata": {},
   "source": [
    "The problems with aggregation get even worse when you release multiple aggregate statistics over the same data. For example, consider the following two summation queries over large groups in our dataset (the first over the whole dataset, and the second over all records except one):"
   ]
  },
  {
   "cell_type": "code",
   "execution_count": 71,
   "metadata": {},
   "outputs": [
    {
     "data": {
      "text/plain": [
       "np.int64(1360238)"
      ]
     },
     "execution_count": 71,
     "metadata": {},
     "output_type": "execute_result"
    }
   ],
   "source": [
    "adult['Age'].sum()"
   ]
  },
  {
   "cell_type": "code",
   "execution_count": 72,
   "metadata": {},
   "outputs": [
    {
     "data": {
      "text/plain": [
       "np.int64(1360182)"
      ]
     },
     "execution_count": 72,
     "metadata": {},
     "output_type": "execute_result"
    }
   ],
   "source": [
    "adult[adult['Name'] != 'Karrie Trusslove']['Age'].sum()"
   ]
  },
  {
   "cell_type": "markdown",
   "metadata": {},
   "source": [
    "If we know both answers, we can simply take the difference and determine Karrie's age completely! This kind of attack can proceed even if the aggregate statistics are over *very large groups*."
   ]
  },
  {
   "cell_type": "code",
   "execution_count": 73,
   "metadata": {
    "scrolled": true
   },
   "outputs": [
    {
     "data": {
      "text/plain": [
       "np.int64(56)"
      ]
     },
     "execution_count": 73,
     "metadata": {},
     "output_type": "execute_result"
    }
   ],
   "source": [
    "adult['Age'].sum() - adult[adult['Name'] != 'Karrie Trusslove']['Age'].sum()"
   ]
  },
  {
   "cell_type": "markdown",
   "metadata": {},
   "source": [
    "### On Malicious Queries\n",
    "\n",
    "A recurring theme in privacy-preserving data analysis is that **distinguishing between malicious and non-malicious queries is not possible**. This limitation is especially important in the context of de-identified or aggregated data, where we might be tempted to assume that certain queries are “safe” simply because they appear innocuous on the surface.\n",
    "\n",
    "The problem is that an attacker doesn't need to issue obviously suspicious queries to violate privacy. Often, the danger lies in combinations of seemingly benign queries whose results can be synthesized to extract sensitive information. For example, asking for the sum of all ages in a dataset and then asking for the sum with a single individual removed can allow an attacker to learn that individual’s exact age via differencing—even though neither query, by itself, looks malicious.\n",
    "\n",
    "From the system's point of view, there is no inherent difference between a privacy-respecting query and an attack. The queries themselves are just instructions for computation. Their intent is not part of the query syntax, and there is no reliable way to detect whether a query is part of a larger strategy to extract sensitive information. In fact, even if we were to limit access to queries that were pre-approved or whitelisted, this wouldn't prevent clever users from chaining together allowable queries to infer private values.\n",
    "\n",
    "This *indistinguishability* is part of why ad hoc approaches to privacy, like de-identification or aggregation alone, tend to fail. They rely on implicit assumptions about how the data will be used and who is asking the questions. But in practice, we cannot guarantee those assumptions hold, especially once data is released or exposed to external users.\n",
    "\n",
    "Differential privacy was designed to address exactly this challenge. It provides formal guarantees that hold regardless of what queries are asked or what auxiliary information the adversary possesses. Under differential privacy, **all queries—malicious or not—are treated uniformly**, and privacy is maintained by controlling the output distributions themselves, not by attempting to guess the user’s intent.\n"
   ]
  },
  {
   "cell_type": "markdown",
   "metadata": {},
   "source": [
    "```{admonition} Summary\n",
    "- A *linkage attack* involves combining *auxiliary data* with *de-identified data* to *re-identify* individuals.\n",
    "- In the simplest case, a linkage attack can be performed via a *join* of two tables containing these datasets.\n",
    "- Simple linking attacks are surprisingly effective:\n",
    "  - Just a single data point is sufficient to narrow things down to a few records.\n",
    "  - The narrowed-down set of records helps suggest additional auxiliary data which might be helpful.\n",
    "  - Two data points are often good enough to re-identify a huge fraction of the population in a particular dataset.\n",
    "  - Three data points (gender, ZIP code, date of birth) uniquely identify 87% of people in the US.\n",
    "- Releasing *data* that is useful makes ensuring *privacy* very difficult.\n",
    "- Distinguishing between *malicious* and *non-malicious* queries is not possible.\n",
    "```  "
   ]
  },
  {
   "cell_type": "markdown",
   "metadata": {},
   "source": [
    "```{admonition} Glossary \n",
    "\n",
    "- [Join (SQL) — Wikipedia](https://en.wikipedia.org/wiki/Join_(SQL))\n",
    "- [Group by (SQL) — Wikipedia](https://en.wikipedia.org/wiki/Select_(SQL)#GROUP_BY)\n",
    "- [Census block — Wikipedia](https://en.wikipedia.org/wiki/Census_block)\n",
    "- [`pandas.merge()`](https://pandas.pydata.org/pandas-docs/stable/reference/api/pandas.merge.html): Perform SQL-style joins in `pandas`.\n",
    "- [`pandas.DataFrame.groupby()`](https://pandas.pydata.org/pandas-docs/stable/reference/api/pandas.DataFrame.groupby.html): Split data into groups based on values in columns.\n",
    "- [`pandas.read_csv()`](https://pandas.pydata.org/pandas-docs/stable/reference/api/pandas.read_csv.html): Read a CSV file into a `DataFrame`.\n",
    "\n",
    "\n",
    "```"
   ]
  }
 ],
 "metadata": {
  "celltoolbar": "Tags",
  "kernelspec": {
   "display_name": "Python 3 (ipykernel)",
   "language": "python",
   "name": "python3"
  },
  "language_info": {
   "codemirror_mode": {
    "name": "ipython",
    "version": 3
   },
   "file_extension": ".py",
   "mimetype": "text/x-python",
   "name": "python",
   "nbconvert_exporter": "python",
   "pygments_lexer": "ipython3",
   "version": "3.13.7"
  }
 },
 "nbformat": 4,
 "nbformat_minor": 4
}
