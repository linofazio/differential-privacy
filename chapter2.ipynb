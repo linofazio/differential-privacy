{
 "cells": [
  {
   "cell_type": "markdown",
   "metadata": {},
   "source": [
    "# k-Anonymity\n",
    "\n",
    "$k$-Anonymity {cite}`sweeney2002` is a *formal privacy definition*. The definition of $k$-Anonymity is designed to formalize our intuition that a piece of auxiliary information should not narrow down the set of possible records for an individual \"too much.\" Stated another way, $k$-Anonymity is designed to ensure that each individual can \"blend into the crowd.\"\n",
    "\n",
    "```{admonition} Learning Objectives\n",
    "After reading this chapter, you will understand:\n",
    "- The definition of $k$-Anonymity\n",
    "- How to check for $k$-Anonymity\n",
    "- How to generalize data to enforce $k$-Anonymity\n",
    "- The limitations of $k$-Anonymity\n",
    "```\n",
    "\n",
    "Informally, we say that a dataset is \"$k$-Anonymized\" for a particular $k$ if each individual in the dataset is a member of a group of size at least $k$, such that each member of the group shares the same *quasi-identifiers* (a selected subset of all the dataset's columns) with all other members of the group. Thus, the individuals in each group \"blend into\" their group - it's possible to narrow down an individual to membership in a particular group, but not to determine which group member is the target.\n",
    "\n",
    "```{prf:definition} K-Anonymity\n",
    ":label: k-anonymity-def\n",
    "Formally, we say that a dataset $D$ satisfies $k$-Anonymity for a value of $k$ if:\n",
    "\n",
    "- For each row $r_1 \\in D$, there exist at least $k-1$ other rows $r_2 \\dots r_k \\in D$ such that $\\Pi_{qi(D)} r_1 = \\Pi_{qi(D)} r_2, \\dots, \\Pi_{qi(D)} r_1 = \\Pi_{qi(D)} r_k$\n",
    "\n",
    "where $qi(D)$ is the quasi-identifiers of $D$, and $\\Pi_{qi(D)} r$ represents the columns of $r$ containing quasi-identifiers (i.e. the projection of the quasi-identifiers).\n",
    "\n",
    "and the quasi-identifier $\\mathit{qi}$ is assumed to be **fixed a priori**—that is, known and specified before any anonymization is performed. This reflects the attacker model: we assume the adversary can use $\\mathit{qi}$ attributes to perform linkage attacks.\n",
    "\n",
    "```"
   ]
  },
  {
   "cell_type": "markdown",
   "metadata": {},
   "source": [
    "## Checking for $k$-Anonymity"
   ]
  },
  {
   "cell_type": "markdown",
   "metadata": {},
   "source": [
    "We'll start with a small dataset, so that we can immediately see by looking at the data whether it satisfies $k$-Anonymity or not. This dataset contains age plus two test scores; it clearly doesn't satisfy $k$-Anonymity for $k > 1$. Any dataset trivially satisfies $k$-Anonymity for $k = 1$, since each row can form its own group of size 1."
   ]
  },
  {
   "cell_type": "code",
   "execution_count": 1,
   "metadata": {
    "tags": [
     "remove-cell"
    ]
   },
   "outputs": [],
   "source": [
    "import pandas as pd\n",
    "import numpy as np\n",
    "import matplotlib.pyplot as plt\n",
    "plt.style.use('seaborn-v0_8-whitegrid')"
   ]
  },
  {
   "cell_type": "code",
   "execution_count": 2,
   "metadata": {
    "tags": [
     "hide-input"
    ]
   },
   "outputs": [
    {
     "data": {
      "text/html": [
       "<div>\n",
       "<style scoped>\n",
       "    .dataframe tbody tr th:only-of-type {\n",
       "        vertical-align: middle;\n",
       "    }\n",
       "\n",
       "    .dataframe tbody tr th {\n",
       "        vertical-align: top;\n",
       "    }\n",
       "\n",
       "    .dataframe thead th {\n",
       "        text-align: right;\n",
       "    }\n",
       "</style>\n",
       "<table border=\"1\" class=\"dataframe\">\n",
       "  <thead>\n",
       "    <tr style=\"text-align: right;\">\n",
       "      <th></th>\n",
       "      <th>age</th>\n",
       "      <th>preTestScore</th>\n",
       "      <th>postTestScore</th>\n",
       "    </tr>\n",
       "  </thead>\n",
       "  <tbody>\n",
       "    <tr>\n",
       "      <th>0</th>\n",
       "      <td>42</td>\n",
       "      <td>4</td>\n",
       "      <td>25</td>\n",
       "    </tr>\n",
       "    <tr>\n",
       "      <th>1</th>\n",
       "      <td>52</td>\n",
       "      <td>24</td>\n",
       "      <td>94</td>\n",
       "    </tr>\n",
       "    <tr>\n",
       "      <th>2</th>\n",
       "      <td>36</td>\n",
       "      <td>31</td>\n",
       "      <td>57</td>\n",
       "    </tr>\n",
       "    <tr>\n",
       "      <th>3</th>\n",
       "      <td>24</td>\n",
       "      <td>2</td>\n",
       "      <td>62</td>\n",
       "    </tr>\n",
       "    <tr>\n",
       "      <th>4</th>\n",
       "      <td>73</td>\n",
       "      <td>3</td>\n",
       "      <td>70</td>\n",
       "    </tr>\n",
       "  </tbody>\n",
       "</table>\n",
       "</div>"
      ],
      "text/plain": [
       "   age  preTestScore  postTestScore\n",
       "0   42             4             25\n",
       "1   52            24             94\n",
       "2   36            31             57\n",
       "3   24             2             62\n",
       "4   73             3             70"
      ]
     },
     "execution_count": 2,
     "metadata": {},
     "output_type": "execute_result"
    }
   ],
   "source": [
    "raw_data = {\n",
    "    'first_name': ['Jason', 'Molly', 'Tina', 'Jake', 'Amy'], \n",
    "    'last_name': ['Miller', 'Jacobson', 'Ali', 'Milner', 'Cooze'], \n",
    "    'age': [42, 52, 36, 24, 73], \n",
    "    'preTestScore': [4, 24, 31, 2, 3],\n",
    "    'postTestScore': [25, 94, 57, 62, 70]}\n",
    "#df = pd.DataFrame(raw_data, columns = ['first_name', 'last_name', 'age', 'preTestScore', 'postTestScore'])\n",
    "df = pd.DataFrame(raw_data, columns = ['age', 'preTestScore', 'postTestScore'])\n",
    "df"
   ]
  },
  {
   "cell_type": "markdown",
   "metadata": {},
   "source": [
    "To implement a function to check whether a dataframe satisfies $k$-Anonymity, we loop over the rows; for each row, we query the dataframe to see how many rows match its values for the quasi-identifiers. If the number of rows in any group is less than $k$, the dataframe does not satisfy $k$-Anonymity for that value of $k$, and we return False. Note that in this simple definition, we consider *all* columns to contain quasi-identifiers; to limit our check to a subset of all columns, we would need to replace the `df.columns` expression with something else."
   ]
  },
  {
   "cell_type": "code",
   "execution_count": 8,
   "metadata": {},
   "outputs": [],
   "source": [
    "def isKAnonymized(df, k):\n",
    "    for index, row in df.iterrows():\n",
    "        query = ' & '.join([f'{col} == {row[col]}' for col in df.columns])\n",
    "        rows = df.query(query)\n",
    "        if rows.shape[0] < k:\n",
    "            print(query)\n",
    "            return False\n",
    "    print(query)        \n",
    "    return True"
   ]
  },
  {
   "cell_type": "markdown",
   "metadata": {},
   "source": [
    "As expected, our example dataframe does *not* satisfy $k$-Anonymity for $k = 2$, but it does satisfy the property for $k=1$."
   ]
  },
  {
   "cell_type": "code",
   "execution_count": 9,
   "metadata": {},
   "outputs": [
    {
     "name": "stdout",
     "output_type": "stream",
     "text": [
      "age == 73 & preTestScore == 3 & postTestScore == 70\n"
     ]
    },
    {
     "data": {
      "text/plain": [
       "True"
      ]
     },
     "execution_count": 9,
     "metadata": {},
     "output_type": "execute_result"
    }
   ],
   "source": [
    "isKAnonymized(df, 1)"
   ]
  },
  {
   "cell_type": "code",
   "execution_count": 10,
   "metadata": {},
   "outputs": [
    {
     "name": "stdout",
     "output_type": "stream",
     "text": [
      "age == 42 & preTestScore == 4 & postTestScore == 25\n"
     ]
    },
    {
     "data": {
      "text/plain": [
       "False"
      ]
     },
     "execution_count": 10,
     "metadata": {},
     "output_type": "execute_result"
    }
   ],
   "source": [
    "isKAnonymized(df, 2)"
   ]
  },
  {
   "cell_type": "markdown",
   "metadata": {},
   "source": [
    "## Generalizing Data to Satisfy $k$-Anonymity"
   ]
  },
  {
   "cell_type": "markdown",
   "metadata": {},
   "source": [
    "The process of modifying a dataset so that it satisfies $k$-Anonymity for a desired $k$ is generally accomplished by *generalizing* the data - modifying values to be less specific, and therefore more likely to match the values of other individuals in the dataset. For example, an age which is accurate to a year may be generalized by rounding to the nearest 10 years, or a ZIP code might have its rightmost digits replaced by zeros. For numeric values, this is easy to implement. We'll use the `apply` method of dataframes, and pass in a dictionary named `depths` which specifies how many digits to replace by zeros for each column. This gives us the flexibility to experiment with different levels of generalization for different columns."
   ]
  },
  {
   "cell_type": "code",
   "execution_count": 11,
   "metadata": {},
   "outputs": [],
   "source": [
    "def generalize(df, depths):\n",
    "    return df.apply(lambda x: x.apply(lambda y: int(int(y/(10**depths[x.name]))*(10**depths[x.name]))))"
   ]
  },
  {
   "cell_type": "markdown",
   "metadata": {},
   "source": [
    "Now, we can generalize our example dataframe. First, we'll try generalizing each column by one \"level\" - i.e. rounding to the nearest 10."
   ]
  },
  {
   "cell_type": "code",
   "execution_count": 12,
   "metadata": {},
   "outputs": [
    {
     "data": {
      "text/html": [
       "<div>\n",
       "<style scoped>\n",
       "    .dataframe tbody tr th:only-of-type {\n",
       "        vertical-align: middle;\n",
       "    }\n",
       "\n",
       "    .dataframe tbody tr th {\n",
       "        vertical-align: top;\n",
       "    }\n",
       "\n",
       "    .dataframe thead th {\n",
       "        text-align: right;\n",
       "    }\n",
       "</style>\n",
       "<table border=\"1\" class=\"dataframe\">\n",
       "  <thead>\n",
       "    <tr style=\"text-align: right;\">\n",
       "      <th></th>\n",
       "      <th>age</th>\n",
       "      <th>preTestScore</th>\n",
       "      <th>postTestScore</th>\n",
       "    </tr>\n",
       "  </thead>\n",
       "  <tbody>\n",
       "    <tr>\n",
       "      <th>0</th>\n",
       "      <td>40</td>\n",
       "      <td>0</td>\n",
       "      <td>20</td>\n",
       "    </tr>\n",
       "    <tr>\n",
       "      <th>1</th>\n",
       "      <td>50</td>\n",
       "      <td>20</td>\n",
       "      <td>90</td>\n",
       "    </tr>\n",
       "    <tr>\n",
       "      <th>2</th>\n",
       "      <td>30</td>\n",
       "      <td>30</td>\n",
       "      <td>50</td>\n",
       "    </tr>\n",
       "    <tr>\n",
       "      <th>3</th>\n",
       "      <td>20</td>\n",
       "      <td>0</td>\n",
       "      <td>60</td>\n",
       "    </tr>\n",
       "    <tr>\n",
       "      <th>4</th>\n",
       "      <td>70</td>\n",
       "      <td>0</td>\n",
       "      <td>70</td>\n",
       "    </tr>\n",
       "  </tbody>\n",
       "</table>\n",
       "</div>"
      ],
      "text/plain": [
       "   age  preTestScore  postTestScore\n",
       "0   40             0             20\n",
       "1   50            20             90\n",
       "2   30            30             50\n",
       "3   20             0             60\n",
       "4   70             0             70"
      ]
     },
     "execution_count": 12,
     "metadata": {},
     "output_type": "execute_result"
    }
   ],
   "source": [
    "depths = {\n",
    "    'age': 1,\n",
    "    'preTestScore': 1,\n",
    "    'postTestScore': 1\n",
    "}\n",
    "df2 = generalize(df, depths)\n",
    "df2"
   ]
  },
  {
   "cell_type": "markdown",
   "metadata": {},
   "source": [
    "Notice that even after generalization, our example data *still* does not satisfy $k$-Anonymity for $k=2$."
   ]
  },
  {
   "cell_type": "code",
   "execution_count": 13,
   "metadata": {},
   "outputs": [
    {
     "name": "stdout",
     "output_type": "stream",
     "text": [
      "age == 40 & preTestScore == 0 & postTestScore == 20\n"
     ]
    },
    {
     "data": {
      "text/plain": [
       "False"
      ]
     },
     "execution_count": 13,
     "metadata": {},
     "output_type": "execute_result"
    }
   ],
   "source": [
    "isKAnonymized(df2, 2)"
   ]
  },
  {
   "cell_type": "markdown",
   "metadata": {},
   "source": [
    "We can try generalizing more - but then we'll end up removing *all* of the data!"
   ]
  },
  {
   "cell_type": "code",
   "execution_count": 14,
   "metadata": {},
   "outputs": [
    {
     "data": {
      "text/html": [
       "<div>\n",
       "<style scoped>\n",
       "    .dataframe tbody tr th:only-of-type {\n",
       "        vertical-align: middle;\n",
       "    }\n",
       "\n",
       "    .dataframe tbody tr th {\n",
       "        vertical-align: top;\n",
       "    }\n",
       "\n",
       "    .dataframe thead th {\n",
       "        text-align: right;\n",
       "    }\n",
       "</style>\n",
       "<table border=\"1\" class=\"dataframe\">\n",
       "  <thead>\n",
       "    <tr style=\"text-align: right;\">\n",
       "      <th></th>\n",
       "      <th>age</th>\n",
       "      <th>preTestScore</th>\n",
       "      <th>postTestScore</th>\n",
       "    </tr>\n",
       "  </thead>\n",
       "  <tbody>\n",
       "    <tr>\n",
       "      <th>0</th>\n",
       "      <td>0</td>\n",
       "      <td>0</td>\n",
       "      <td>0</td>\n",
       "    </tr>\n",
       "    <tr>\n",
       "      <th>1</th>\n",
       "      <td>0</td>\n",
       "      <td>0</td>\n",
       "      <td>0</td>\n",
       "    </tr>\n",
       "    <tr>\n",
       "      <th>2</th>\n",
       "      <td>0</td>\n",
       "      <td>0</td>\n",
       "      <td>0</td>\n",
       "    </tr>\n",
       "    <tr>\n",
       "      <th>3</th>\n",
       "      <td>0</td>\n",
       "      <td>0</td>\n",
       "      <td>0</td>\n",
       "    </tr>\n",
       "    <tr>\n",
       "      <th>4</th>\n",
       "      <td>0</td>\n",
       "      <td>0</td>\n",
       "      <td>0</td>\n",
       "    </tr>\n",
       "  </tbody>\n",
       "</table>\n",
       "</div>"
      ],
      "text/plain": [
       "   age  preTestScore  postTestScore\n",
       "0    0             0              0\n",
       "1    0             0              0\n",
       "2    0             0              0\n",
       "3    0             0              0\n",
       "4    0             0              0"
      ]
     },
     "execution_count": 14,
     "metadata": {},
     "output_type": "execute_result"
    }
   ],
   "source": [
    "depths = {\n",
    "    'age': 2,\n",
    "    'preTestScore': 2,\n",
    "    'postTestScore': 2\n",
    "}\n",
    "generalize(df, depths)"
   ]
  },
  {
   "cell_type": "markdown",
   "metadata": {},
   "source": [
    "This example illustrates one of the key challenges of achieving $k$-Anonymity:\n",
    "\n",
    "```{important}\n",
    "Achieving $k$-Anonymity for meaningful values of $k$ often requires removing quite a lot of information from the data.\n",
    "```"
   ]
  },
  {
   "cell_type": "markdown",
   "metadata": {},
   "source": [
    "## Does More Data Improve Generalization?"
   ]
  },
  {
   "cell_type": "markdown",
   "metadata": {},
   "source": [
    "Our example dataset is too small for $k$-Anonymity to work well. Because there are only 5 individuals in the dataset, building groups of 2 or more individuals who share the same properties is difficult. The solution to this problem is more data: in a dataset with more individuals, less generalization will typically be needed to satisfy $k$-Anonymity for a desired $k$.\n",
    "\n",
    "Let's try the same census data we examined for de-identification. This dataset contains more than 32,000 rows, so it should be easier to achieve $k$-Anonymity."
   ]
  },
  {
   "cell_type": "code",
   "execution_count": 15,
   "metadata": {
    "tags": [
     "remove-cell"
    ]
   },
   "outputs": [
    {
     "data": {
      "text/html": [
       "<div>\n",
       "<style scoped>\n",
       "    .dataframe tbody tr th:only-of-type {\n",
       "        vertical-align: middle;\n",
       "    }\n",
       "\n",
       "    .dataframe tbody tr th {\n",
       "        vertical-align: top;\n",
       "    }\n",
       "\n",
       "    .dataframe thead th {\n",
       "        text-align: right;\n",
       "    }\n",
       "</style>\n",
       "<table border=\"1\" class=\"dataframe\">\n",
       "  <thead>\n",
       "    <tr style=\"text-align: right;\">\n",
       "      <th></th>\n",
       "      <th>Name</th>\n",
       "      <th>DOB</th>\n",
       "      <th>SSN</th>\n",
       "      <th>Zip</th>\n",
       "      <th>Workclass</th>\n",
       "      <th>Education</th>\n",
       "      <th>Education-Num</th>\n",
       "      <th>Marital Status</th>\n",
       "      <th>Occupation</th>\n",
       "      <th>Relationship</th>\n",
       "      <th>Race</th>\n",
       "      <th>Sex</th>\n",
       "      <th>Hours per week</th>\n",
       "      <th>Country</th>\n",
       "      <th>Target</th>\n",
       "      <th>Age</th>\n",
       "      <th>Capital Gain</th>\n",
       "      <th>Capital Loss</th>\n",
       "    </tr>\n",
       "  </thead>\n",
       "  <tbody>\n",
       "    <tr>\n",
       "      <th>0</th>\n",
       "      <td>Karrie Trusslove</td>\n",
       "      <td>9/7/1967</td>\n",
       "      <td>732-14-6110</td>\n",
       "      <td>64152</td>\n",
       "      <td>State-gov</td>\n",
       "      <td>Bachelors</td>\n",
       "      <td>13</td>\n",
       "      <td>Never-married</td>\n",
       "      <td>Adm-clerical</td>\n",
       "      <td>Not-in-family</td>\n",
       "      <td>White</td>\n",
       "      <td>Male</td>\n",
       "      <td>40</td>\n",
       "      <td>United-States</td>\n",
       "      <td>&lt;=50K</td>\n",
       "      <td>56</td>\n",
       "      <td>2174</td>\n",
       "      <td>0</td>\n",
       "    </tr>\n",
       "    <tr>\n",
       "      <th>1</th>\n",
       "      <td>Brandise Tripony</td>\n",
       "      <td>6/7/1988</td>\n",
       "      <td>150-19-2766</td>\n",
       "      <td>61523</td>\n",
       "      <td>Self-emp-not-inc</td>\n",
       "      <td>Bachelors</td>\n",
       "      <td>13</td>\n",
       "      <td>Married-civ-spouse</td>\n",
       "      <td>Exec-managerial</td>\n",
       "      <td>Husband</td>\n",
       "      <td>White</td>\n",
       "      <td>Male</td>\n",
       "      <td>13</td>\n",
       "      <td>United-States</td>\n",
       "      <td>&lt;=50K</td>\n",
       "      <td>35</td>\n",
       "      <td>0</td>\n",
       "      <td>0</td>\n",
       "    </tr>\n",
       "    <tr>\n",
       "      <th>2</th>\n",
       "      <td>Brenn McNeely</td>\n",
       "      <td>8/6/1991</td>\n",
       "      <td>725-59-9860</td>\n",
       "      <td>95668</td>\n",
       "      <td>Private</td>\n",
       "      <td>HS-grad</td>\n",
       "      <td>9</td>\n",
       "      <td>Divorced</td>\n",
       "      <td>Handlers-cleaners</td>\n",
       "      <td>Not-in-family</td>\n",
       "      <td>White</td>\n",
       "      <td>Male</td>\n",
       "      <td>40</td>\n",
       "      <td>United-States</td>\n",
       "      <td>&lt;=50K</td>\n",
       "      <td>32</td>\n",
       "      <td>0</td>\n",
       "      <td>0</td>\n",
       "    </tr>\n",
       "    <tr>\n",
       "      <th>3</th>\n",
       "      <td>Dorry Poter</td>\n",
       "      <td>4/6/2009</td>\n",
       "      <td>659-57-4974</td>\n",
       "      <td>25503</td>\n",
       "      <td>Private</td>\n",
       "      <td>11th</td>\n",
       "      <td>7</td>\n",
       "      <td>Married-civ-spouse</td>\n",
       "      <td>Handlers-cleaners</td>\n",
       "      <td>Husband</td>\n",
       "      <td>Black</td>\n",
       "      <td>Male</td>\n",
       "      <td>40</td>\n",
       "      <td>United-States</td>\n",
       "      <td>&lt;=50K</td>\n",
       "      <td>14</td>\n",
       "      <td>0</td>\n",
       "      <td>0</td>\n",
       "    </tr>\n",
       "    <tr>\n",
       "      <th>4</th>\n",
       "      <td>Dick Honnan</td>\n",
       "      <td>9/16/1951</td>\n",
       "      <td>220-93-3811</td>\n",
       "      <td>75387</td>\n",
       "      <td>Private</td>\n",
       "      <td>Bachelors</td>\n",
       "      <td>13</td>\n",
       "      <td>Married-civ-spouse</td>\n",
       "      <td>Prof-specialty</td>\n",
       "      <td>Wife</td>\n",
       "      <td>Black</td>\n",
       "      <td>Female</td>\n",
       "      <td>40</td>\n",
       "      <td>Cuba</td>\n",
       "      <td>&lt;=50K</td>\n",
       "      <td>72</td>\n",
       "      <td>0</td>\n",
       "      <td>0</td>\n",
       "    </tr>\n",
       "  </tbody>\n",
       "</table>\n",
       "</div>"
      ],
      "text/plain": [
       "               Name        DOB          SSN    Zip         Workclass  \\\n",
       "0  Karrie Trusslove   9/7/1967  732-14-6110  64152         State-gov   \n",
       "1  Brandise Tripony   6/7/1988  150-19-2766  61523  Self-emp-not-inc   \n",
       "2     Brenn McNeely   8/6/1991  725-59-9860  95668           Private   \n",
       "3       Dorry Poter   4/6/2009  659-57-4974  25503           Private   \n",
       "4       Dick Honnan  9/16/1951  220-93-3811  75387           Private   \n",
       "\n",
       "   Education  Education-Num      Marital Status         Occupation  \\\n",
       "0  Bachelors             13       Never-married       Adm-clerical   \n",
       "1  Bachelors             13  Married-civ-spouse    Exec-managerial   \n",
       "2    HS-grad              9            Divorced  Handlers-cleaners   \n",
       "3       11th              7  Married-civ-spouse  Handlers-cleaners   \n",
       "4  Bachelors             13  Married-civ-spouse     Prof-specialty   \n",
       "\n",
       "    Relationship   Race     Sex  Hours per week        Country Target  Age  \\\n",
       "0  Not-in-family  White    Male              40  United-States  <=50K   56   \n",
       "1        Husband  White    Male              13  United-States  <=50K   35   \n",
       "2  Not-in-family  White    Male              40  United-States  <=50K   32   \n",
       "3        Husband  Black    Male              40  United-States  <=50K   14   \n",
       "4           Wife  Black  Female              40           Cuba  <=50K   72   \n",
       "\n",
       "   Capital Gain  Capital Loss  \n",
       "0          2174             0  \n",
       "1             0             0  \n",
       "2             0             0  \n",
       "3             0             0  \n",
       "4             0             0  "
      ]
     },
     "execution_count": 15,
     "metadata": {},
     "output_type": "execute_result"
    }
   ],
   "source": [
    "adult_data = pd.read_csv(\"adult_with_pii.csv\")\n",
    "adult_data.head()"
   ]
  },
  {
   "cell_type": "markdown",
   "metadata": {},
   "source": [
    "We'll consider the age and educational achievement of each individual to be the quasi-identifiers. We'll project just those columns, and try to achieve $k$-Anonymity for $k=2$. The data is already $k$-Anonymous for $k=1$.\n",
    "\n",
    "Notice that we take just the first 100 rows from the dataset for this check - try running `isKAnonymized` on a larger subset of the data, and you'll find that it takes a very long time (for example, running the $k=1$ check on 5000 rows takes about 20 seconds on our laptop). For $k=2$, our algorithm finds a failing row quickly and finishes fast."
   ]
  },
  {
   "cell_type": "code",
   "execution_count": 16,
   "metadata": {},
   "outputs": [
    {
     "name": "stdout",
     "output_type": "stream",
     "text": [
      "age == 31 & edu == 10\n"
     ]
    },
    {
     "data": {
      "text/plain": [
       "True"
      ]
     },
     "execution_count": 16,
     "metadata": {},
     "output_type": "execute_result"
    }
   ],
   "source": [
    "df = adult_data[['Age', 'Education-Num']]\n",
    "df.columns = ['age', 'edu']\n",
    "isKAnonymized(df.head(100), 1)"
   ]
  },
  {
   "cell_type": "code",
   "execution_count": 17,
   "metadata": {},
   "outputs": [
    {
     "name": "stdout",
     "output_type": "stream",
     "text": [
      "age == 32 & edu == 9\n"
     ]
    },
    {
     "data": {
      "text/plain": [
       "False"
      ]
     },
     "execution_count": 17,
     "metadata": {},
     "output_type": "execute_result"
    }
   ],
   "source": [
    "isKAnonymized(df.head(100), 2)"
   ]
  },
  {
   "cell_type": "markdown",
   "metadata": {},
   "source": [
    "Now, we'll try to generalize to achieve $k$-Anonymity for $k=2$. We'll start with generalizing both age and educational attainment to the nearest 10."
   ]
  },
  {
   "cell_type": "code",
   "execution_count": 18,
   "metadata": {},
   "outputs": [
    {
     "name": "stdout",
     "output_type": "stream",
     "text": [
      "age == 90 & edu == 10\n"
     ]
    },
    {
     "data": {
      "text/plain": [
       "False"
      ]
     },
     "execution_count": 18,
     "metadata": {},
     "output_type": "execute_result"
    }
   ],
   "source": [
    "# outliers are a real problem!\n",
    "depths = {\n",
    "    'age': 1,\n",
    "    'edu': 1\n",
    "}\n",
    "df2 = generalize(df.head(100), depths)\n",
    "isKAnonymized(df2, 2)"
   ]
  },
  {
   "cell_type": "markdown",
   "metadata": {},
   "source": [
    "The generalized result still does not satisfy $k$-Anonymity for $k=2$! In fact, we can perform this generalization on all ~32,000 rows and still fail to satisfy $k$-Anonymity for $k=2$ - so adding more data does not necessarily help as much as we expected.\n",
    "\n",
    "The reason is that the dataset contains *outliers* - individuals who are very different from the rest of the population. These individuals do not fit easily into any group, even after generalization. Even considering *only* ages, we can see that adding more data is not likely to help, since very low and very high ages are poorly represented in the dataset."
   ]
  },
  {
   "cell_type": "code",
   "execution_count": 19,
   "metadata": {
    "tags": [
     "hide-input"
    ]
   },
   "outputs": [
    {
     "data": {
      "image/png": "[encoded data removed]",
      "text/plain": [
       "<Figure size 640x480 with 1 Axes>"
      ]
     },
     "metadata": {},
     "output_type": "display_data"
    }
   ],
   "source": [
    "df2['age'].hist();"
   ]
  },
  {
   "cell_type": "markdown",
   "metadata": {},
   "source": [
    "Achieving the optimal generalization for $k$-Anonymity is very challenging in cases like this. Generalizing each row *more* would be overkill for the well-represented individuals with ages in the 20-40 range, and would hurt utility. However, more generalization is clearly needed for individuals at the upper and lower ends of the age range. This is the kind of challenge that occurs regularly in practice, and is difficult to solve automatically. In fact, optimal generalization for $k$-Anonymity has been shown to be NP-hard.\n",
    "\n",
    "```{note}\n",
    "In their 2004 paper {cite}`meyerson2004complexity` , On the Complexity of Optimal $k$-Anonymity, Meyerson and Williams proved that the problem of finding an optimal generalization of a dataset to satisfy $k$-anonymity, while minimizing information loss, is NP-hard. This result underscores the difficulty of automating $k$-anonymity in practice: even for modest dataset sizes or values of $k$, it may be computationally infeasible to find the best generalization.\n",
    "\n",
    "```\n",
    "\n",
    "```{important}\n",
    "Outliers make achieving $k$-Anonymity very challenging, even for large datasets. Optimal generalization for $k$-Anonymity is NP-hard.\n",
    "```"
   ]
  },
  {
   "cell_type": "markdown",
   "metadata": {},
   "source": [
    "## Removing Outliers"
   ]
  },
  {
   "cell_type": "markdown",
   "metadata": {},
   "source": [
    "One solution to this problem is simply to clip the age of each individual in the dataset to lie within a specific range, eliminating outliers entirely. This can also hurt utility, since it replaces real ages with fake ones, but it can be better than generalizing each row more. We can use Numpy's `clip` method to perform this clipping. We clip ages to be 10-60, and require an educational level of at least 5th-6th grade (represented by the index $3$ in the dataset)."
   ]
  },
  {
   "cell_type": "code",
   "execution_count": 20,
   "metadata": {},
   "outputs": [
    {
     "name": "stdout",
     "output_type": "stream",
     "text": [
      "age == 20 & edu == 0\n"
     ]
    },
    {
     "data": {
      "text/plain": [
       "True"
      ]
     },
     "execution_count": 20,
     "metadata": {},
     "output_type": "execute_result"
    }
   ],
   "source": [
    "# clipping away outliers\n",
    "depths = {\n",
    "    'age': 1,\n",
    "    'edu': 1\n",
    "}\n",
    "dfp = df.clip(upper=np.array([60, 100000000]), axis='columns')\n",
    "dfp = dfp.clip(lower=np.array([10, 3]), axis='columns')\n",
    "df2 = generalize(dfp.head(500), depths)\n",
    "isKAnonymized(df2, 7)"
   ]
  },
  {
   "cell_type": "markdown",
   "metadata": {},
   "source": [
    "Now, the generalized dataset satisfies $k$-Anonymity for $k=7$! In other words, our level of generalization was appropriate, but outliers prevented us from achieving $k$-Anonymity before, even for $k=2$.\n",
    "\n",
    "We will also discuss clipping later on in the context of bounding function sensitivity in order to achieve differential privacy.\n",
    "\n",
    "```{note}\n",
    "\n",
    "### Clipping Vs. Bucketing\n",
    "\n",
    "While both clipping and bucketing reduce the granularity of data, they serve different purposes. **Clipping** is useful for dealing with unwanted extremes —for example— truncating unusually high ages to limit outliers' influence on statistical queries. \n",
    "\n",
    "**Bucketing**, on the other hand, is used to create meaningful categories—such as age groups—for classification, comparison, or generalization. \n",
    "\n",
    "In short, clipping is a tool for bounding (sensitivity), while bucketing helps structure the data for analysis or anonymization!\n",
    "\n",
    "\n",
    "```"
   ]
  },
  {
   "cell_type": "markdown",
   "metadata": {},
   "source": [
    "## The Homogeneity Attack"
   ]
  },
  {
   "cell_type": "markdown",
   "metadata": {},
   "source": [
    "The homogeneity attack represents a significant limitation to the effectiveness of $k$-Anonymity. Ordinarily, the goal of $k$-Anonymity is to protect individuals' identities by ensuring that each individual in a dataset is indistinguishable from at least $k-1$ others. These $k-1$ others (in addition to the individual) are called the individual's \"group\" *within* the dataset.  \n",
    "\n",
    "However, the homogeneity attack leverages similarities among quasi-identifiers within a group, making it challenging to achieve true individual anonymity. In this attack, an adversary exploits the *uniformity* or *lack of diversity* among the attributes used for anonymization, enabling the de-anonymization/re-identification of individuals. \n",
    "\n",
    "This attack vector arises when the data's quasi-identifiers exhibit a high degree of similarity, and groups have identical values for their sensitive attributes, making it easier for an attacker to infer sensitive information about specific individuals. In such cases, sensitive information regarding individuals can be inferred via determination of group membership. \n",
    "\n",
    "```{note}\n",
    "It is worth noting that $k$-Anonymity is also highly susceptible to attacks enabled by the availability of *background knowledge* regarding individuals. Such knowledge may aid, for example, in re-identification of individuals by simple process of elimination of other members of their group who do not fit certain criteria.\n",
    "```\n",
    "\n",
    "Addressing the homogeneity attack requires careful manual consideration regarding the selection of diverse quasi-identifiers, highlighting the need for more sophisticated anonymization techniques to enhance the robustness of privacy preservation in datasets.\n",
    "\n",
    "One such technique, which is also immune to the presence of background knowledge, is differential privacy.\n",
    "\n"
   ]
  },
  {
   "cell_type": "markdown",
   "metadata": {},
   "source": [
    "```{note}\n",
    "\n",
    "### The Homogeneity Attack: A Closer Look\n",
    "\n",
    "The **homogeneity attack** exploits situations where all—or nearly all—records in a group share the same sensitive attribute. Even if explicit identifiers are removed, this can allow an adversary to confidently infer sensitive information.\n",
    "\n",
    "Let’s make this concrete by applying it to our running example, which involves a medical dataset with attributes like `Zip Code`, `Age`, `Gender`, and an added sensitive attribute `Diagnosis`.\n",
    "\n",
    "Suppose the data has been anonymized using **$k$-anonymity**, and the following generalized record group appears in the released dataset:\n",
    "\n",
    "| Zip Code | Age    | Gender | Diagnosis |\n",
    "|----------|--------|--------|-----------|\n",
    "| 02138    | 30–40  | Male   | Flu       |\n",
    "| 02138    | 30–40  | Male   | Flu       |\n",
    "| 02138    | 30–40  | Male   | Flu       |\n",
    "\n",
    "This group satisfies **3-anonymity**, as there are three indistinguishable records. However, all of them share the same diagnosis: **Flu**. If an attacker knows that someone named Alex is a 35-year-old male living in 02138, they can confidently link Alex to this group. Even though they cannot pinpoint which record is his, the lack of diversity in the sensitive attribute allows them to infer his diagnosis.\n",
    "\n",
    "This is the essence of the **homogeneity attack**: the anonymity set is large enough, but it's **not diverse enough** in the sensitive attribute.\n",
    "\n",
    "### Why This Matters\n",
    "\n",
    "$k$-anonymity guarantees that an individual is indistinguishable from at least $k - 1$ others, but it does **not** guarantee that those others don’t all share the same sensitive value. As a result, **privacy is not preserved** if the sensitive attribute lacks variability within the group.\n",
    "\n",
    "To mitigate this, techniques like **$\\ell$-diversity** and **$t$-closeness** were introduced. These methods aim to ensure that, within each anonymity group, the distribution of the sensitive attribute remains varied and resembles the overall distribution.\n",
    "\n",
    "However, even these refinements have limitations—especially in high-dimensional datasets or under strong auxiliary knowledge. This is one of the motivations for adopting differential privacy, which does not rely on grouping records or assumptions about adversary knowledge.\n",
    "\n",
    "```"
   ]
  },
  {
   "cell_type": "markdown",
   "metadata": {},
   "source": [
    "```{admonition} Summary\n",
    "- $k$-Anonymity is a property of data, which ensures that each individual \"blends in\" with a group of at least $k$ individuals.\n",
    "- $k$-Anonymity is computationally expensive even to check: the naive algorithm is $O(n^2)$, and faster algorithms take considerable space.\n",
    "- $k$-Anonymity can be achieved by modifying a dataset by *generalizing* it, so that particular values become more common and groups are easier to form.\n",
    "- Optimal generalization is extremely difficult, and outliers can make it even more challenging. Solving this problem automatically is NP-hard.\n",
    "```"
   ]
  },
  {
   "cell_type": "markdown",
   "metadata": {},
   "source": [
    "```{admonition} Glossary\n",
    "\n",
    "- [k-Anonymity — Wikipedia](https://en.wikipedia.org/wiki/K-anonymity)\n",
    "- [Quasi-Identifier — Wikipedia](https://en.wikipedia.org/wiki/Quasi-identifier)\n",
    "- [l-Diversity — Wikipedia](https://en.wikipedia.org/wiki/L-diversity)\n",
    "- [Generalization (Data) — Wikipedia](https://en.wikipedia.org/wiki/Data_anonymization#Generalization)\n",
    "- [Suppression (Privacy) — Wikipedia](https://en.wikipedia.org/wiki/Data_anonymization#Suppression)\n",
    "- [Homogeneity Attack — Wikipedia](https://en.wikipedia.org/wiki/K-anonymity#Homogeneity_attack)\n",
    "\n",
    "```\n"
   ]
  }
 ],
 "metadata": {
  "celltoolbar": "Tags",
  "kernelspec": {
   "display_name": "Python 3 (ipykernel)",
   "language": "python",
   "name": "python3"
  },
  "language_info": {
   "codemirror_mode": {
    "name": "ipython",
    "version": 3
   },
   "file_extension": ".py",
   "mimetype": "text/x-python",
   "name": "python",
   "nbconvert_exporter": "python",
   "pygments_lexer": "ipython3",
   "version": "3.13.7"
  }
 },
 "nbformat": 4,
 "nbformat_minor": 4
}
